{
 "cells": [
  {
   "cell_type": "markdown",
   "metadata": {},
   "source": [
    "### Max Ranieri - CSC370\n",
    "\n",
    "In this Jupyter notebook I used numpy, scipy, and matplotlib to adapt some Matlab code that explores convolution in 1D and 2D. Ideally I would have done more but I am still learning numpy so adapting the code took some work.\n",
    "\n",
    "[Original code/exercises](http://www.cs.smith.edu/~nhowe/teaching/csc370/Assign/conv.html)."
   ]
  },
  {
   "cell_type": "code",
   "execution_count": 36,
   "metadata": {
    "scrolled": true
   },
   "outputs": [],
   "source": [
    "%matplotlib inline\n",
    "\n",
    "import numpy as np\n",
    "import matplotlib\n",
    "from scipy import signal\n",
    "from PIL import Image\n",
    "\n",
    "from matplotlib import pyplot as plt"
   ]
  },
  {
   "cell_type": "markdown",
   "metadata": {},
   "source": [
    "see [here](https://stackoverflow.com/questions/17190649/how-to-obtain-a-gaussian-filter-in-python) for gaussian function source"
   ]
  },
  {
   "cell_type": "code",
   "execution_count": 37,
   "metadata": {},
   "outputs": [],
   "source": [
    "# function adapted from matlab by ali_m on stack overflow\n",
    "def gaussian(shape=(3,3),sigma=0.5):\n",
    "    \"\"\"\n",
    "    2D gaussian mask - should give the same result as MATLAB's\n",
    "    fspecial('gaussian',[shape],[sigma])\n",
    "    \"\"\"\n",
    "    m,n = [(ss-1.)/2. for ss in shape]\n",
    "    y,x = np.ogrid[-m:m+1,-n:n+1]\n",
    "    h = np.exp( -(x*x + y*y) / (2.*sigma*sigma) )\n",
    "    h[ h < np.finfo(h.dtype).eps*h.max() ] = 0\n",
    "    sumh = h.sum()\n",
    "    if sumh != 0:\n",
    "        h /= sumh\n",
    "    return h"
   ]
  },
  {
   "cell_type": "code",
   "execution_count": 38,
   "metadata": {},
   "outputs": [
    {
     "data": {
      "image/png": "[encoded data removed]",
      "text/plain": [
       "<matplotlib.figure.Figure at 0x108fcb750>"
      ]
     },
     "metadata": {},
     "output_type": "display_data"
    }
   ],
   "source": [
    "# 1D functions\n",
    "a = np.append(np.zeros((1,50)),np.ones((1,50)))\n",
    "b = np.concatenate((np.zeros((1,100))[0], np.array([1]), np.zeros((1,100))[0]))\n",
    "c = np.concatenate((np.zeros((1,50))[0], np.linspace(0,1,50), np.linspace(0,1,50), np.ones((1,50))[0]))\n",
    "d = np.concatenate((np.zeros((1,50))[0], np.linspace(0,1,50), np.zeros((1,50))[0]))\n",
    "\n",
    "f = gaussian((1,21), 3)\n",
    "f = f[0]\n",
    "g = [-1, 1]\n",
    "\n",
    "plt.plot(a)\n",
    "plt.plot(np.convolve(a,f,'valid'))\n",
    "plt.show()"
   ]
  },
  {
   "cell_type": "code",
   "execution_count": 67,
   "metadata": {},
   "outputs": [
    {
     "data": {
      "image/png": "[encoded data removed]",
      "text/plain": [
       "<matplotlib.figure.Figure at 0x108ef3b90>"
      ]
     },
     "metadata": {},
     "output_type": "display_data"
    }
   ],
   "source": [
    "# 2D functions\n",
    "# padding works a bit differently in numpy than matlab, so I tried to\n",
    "# approximate what I determined each plot to be based on the Matlab code provided\n",
    "a2 = np.concatenate((np.zeros((200,100)), np.ones((200,100))))\n",
    "arr = [[0, 1], [0, 0]]\n",
    "b2 = np.pad(arr, ((98,100),(100,100)), 'constant')\n",
    "c2 = np.pad(np.ones((1,100)), ((100,100),(100,100)), 'constant')\n",
    "d2 = np.pad(np.ones((100,100)), ((75,75),(75,75)), 'constant')\n",
    "e2 = np.pad(np.pad(np.zeros((100,100)),((1,1), (1,1)), 'constant', constant_values=1), ((50,50), (50,50)), 'constant')\n",
    "\n",
    "f2 = gaussian((21,21), 3)\n",
    "g2 = [1, -1]\n",
    "g2 = np.expand_dims(g2, 0)\n",
    "h2 = np.transpose(g2)\n",
    "\n",
    "up1 = [[0, 1, 0], \n",
    "       [0,0,0], \n",
    "       [0,0,0]]\n",
    "dbl = [[1,0,0,0,0], \n",
    "       [0,0,0,0,0], \n",
    "       [0,0,1,0,0], \n",
    "       [0,0,0,0,0], \n",
    "       [0,0,0,0,0]]\n",
    "\n",
    "blur = np.concatenate((np.zeros((4, 10)), np.ones((1,10)), np.zeros((4,10))))/10\n",
    "\n",
    "plt.imshow(signal.convolve2d(e2, blur ,'valid'))\n",
    "plt.show()"
   ]
  },
  {
   "cell_type": "code",
   "execution_count": 91,
   "metadata": {},
   "outputs": [
    {
     "data": {
      "image/png": "[encoded data removed]",
      "text/plain": [
       "<matplotlib.figure.Figure at 0x104477310>"
      ]
     },
     "metadata": {},
     "output_type": "display_data"
    }
   ],
   "source": [
    "# Convolution function\n",
    "# Expects a square kernel\n",
    "def myconv2d(img, kern):\n",
    "    img_data = img_to_arr(img)\n",
    "    nrow = img_data.shape[0]\n",
    "    ncol = img_data.shape[1]\n",
    "    img2 = np.zeros((nrow,ncol))\n",
    "    d = len(kern)\n",
    "    r = d/2\n",
    "    for i in range((r-1), (nrow-d)):\n",
    "        for j in range((r-1), (ncol-d)):\n",
    "            img2[i, j] = (kern*img[i:i+d,j:j+d]).sum()\n",
    "    return img2\n",
    "    \n",
    "def img_to_arr(img) :\n",
    "    data = np.asarray(img, dtype=\"int32\")\n",
    "    return data\n",
    "\n",
    "none = [[1,1,1], [1,1,1], [1,1,1]]\n",
    "\n",
    "plt.imshow(myconv2d(e2,dbl))\n",
    "plt.show()"
   ]
  }
 ],
 "metadata": {
  "kernelspec": {
   "display_name": "Python 2",
   "language": "python",
   "name": "python2"
  },
  "language_info": {
   "codemirror_mode": {
    "name": "ipython",
    "version": 2
   },
   "file_extension": ".py",
   "mimetype": "text/x-python",
   "name": "python",
   "nbconvert_exporter": "python",
   "pygments_lexer": "ipython2",
   "version": "2.7.10"
  }
 },
 "nbformat": 4,
 "nbformat_minor": 2
}
